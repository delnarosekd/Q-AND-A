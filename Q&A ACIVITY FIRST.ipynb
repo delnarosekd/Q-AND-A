{
 "cells": [
  {
   "cell_type": "markdown",
   "metadata": {},
   "source": [
    "## 1. Complete the following code to find the area of an equilateral triangle. Output should be as displayed"
   ]
  },
  {
   "cell_type": "code",
   "execution_count": 13,
   "metadata": {},
   "outputs": [
    {
     "name": "stdout",
     "output_type": "stream",
     "text": [
      "Enter the side of the equilateral triangle: 7\n",
      "21.217622392718745\n"
     ]
    }
   ],
   "source": [
    "import math\n",
    "side = float(input(\"Enter the side of the equilateral triangle: \"))\n",
    "area = ((math.sqrt(3))/4)*pow(side,2)\n",
    "print(area)"
   ]
  },
  {
   "cell_type": "markdown",
   "metadata": {},
   "source": [
    "## 2. Write a program to count the number of each characters in a string"
   ]
  },
  {
   "cell_type": "code",
   "execution_count": 12,
   "metadata": {},
   "outputs": [
    {
     "name": "stdout",
     "output_type": "stream",
     "text": [
      "enter the string python\n",
      "count of characters  {'p': 1, 'y': 1, 't': 1, 'h': 1, 'o': 1, 'n': 1}\n"
     ]
    }
   ],
   "source": [
    "string=input(\"enter the string \")\n",
    "count={}\n",
    "for i in string:\n",
    "    if i in count:\n",
    "        count[i]+=1\n",
    "    else:\n",
    "        count[i]=1\n",
    "print(\"count of characters \", count)"
   ]
  },
  {
   "cell_type": "markdown",
   "metadata": {},
   "source": [
    "## 3. Write a program to find the area and perimeter of a rectangle using functions"
   ]
  },
  {
   "cell_type": "code",
   "execution_count": 14,
   "metadata": {},
   "outputs": [
    {
     "name": "stdout",
     "output_type": "stream",
     "text": [
      "enter the length of the rectangle6\n",
      "enter the width of the rectangle7\n",
      "Area of rectangle: 42.0\n",
      "Perimeter of rectangle: 26.0\n"
     ]
    }
   ],
   "source": [
    "length=float(input(\"enter the length of the rectangle\"))\n",
    "width=float(input(\"enter the width of the rectangle\"))\n",
    "print(\"Area of rectangle:\",length*width)\n",
    "print(\"Perimeter of rectangle:\",(length+width)*2)"
   ]
  },
  {
   "cell_type": "markdown",
   "metadata": {},
   "source": [
    "## 4. Write a program to print the fibonacci series till a specified number"
   ]
  },
  {
   "cell_type": "code",
   "execution_count": 15,
   "metadata": {},
   "outputs": [
    {
     "name": "stdout",
     "output_type": "stream",
     "text": [
      "enter the value 9\n",
      "fibonacci series :  9\n",
      "01123581321"
     ]
    }
   ],
   "source": [
    "n=int(input(\"enter the value \"))\n",
    "a=0\n",
    "b=1\n",
    "sum=0\n",
    "count=1\n",
    "print(\"fibonacci series : \",n)\n",
    "while(count<=n):\n",
    "    print(sum,end=\"\")\n",
    "    count+=1\n",
    "    a=b\n",
    "    b=sum\n",
    "    sum=a+b"
   ]
  },
  {
   "cell_type": "markdown",
   "metadata": {},
   "source": [
    "## 5. Complete the following code to find the minimum of 3 number using conditional statements. Output should be as displayed"
   ]
  },
  {
   "cell_type": "code",
   "execution_count": 2,
   "metadata": {},
   "outputs": [
    {
     "name": "stdout",
     "output_type": "stream",
     "text": [
      "Enter three numbers followed by  : 2 3 4\n",
      "First number : 2\n",
      "Second number : 3\n",
      "Third number : 4\n",
      "2  is smallest\n"
     ]
    }
   ],
   "source": [
    "a,b,c = input(\"Enter three numbers followed by  : \").split()\n",
    "\n",
    "print(\"First number :\",a)\n",
    "print(\"Second number :\",b)\n",
    "print(\"Third number :\",c)\n",
    "if a==b==c:\n",
    "    print(\"Entered numbers are equal!!!\")\n",
    "elif a<b and a<c :\n",
    "    print(a,\" is smallest\")\n",
    "elif b<a and b<c :\n",
    "    print(b,\" is smallest\")\n",
    "elif c<a and c<b :\n",
    "    print(c,\" is smallest\")"
   ]
  },
  {
   "cell_type": "markdown",
   "metadata": {},
   "source": [
    "## 6. Write a program to print star pyramind. The number of rows should be taken as input from the user"
   ]
  },
  {
   "cell_type": "code",
   "execution_count": 3,
   "metadata": {},
   "outputs": [
    {
     "name": "stdout",
     "output_type": "stream",
     "text": [
      "Enter the number of rows:5\n",
      "    * \n",
      "   * * \n",
      "  * * * \n",
      " * * * * \n",
      "* * * * * \n"
     ]
    }
   ],
   "source": [
    "num=int(input(\"Enter the number of rows:\"))\n",
    "for i in range(0,num):\n",
    "    for j in range(0,num-i-1):\n",
    "        print(end=\" \")\n",
    "    for j in range(0,i+1):\n",
    "        print(\"*\",end=\" \")\n",
    "    print()   "
   ]
  },
  {
   "cell_type": "markdown",
   "metadata": {},
   "source": [
    "## 7. Complete the following code to convert hour into seconds. Output should be as displayed"
   ]
  },
  {
   "cell_type": "code",
   "execution_count": 8,
   "metadata": {},
   "outputs": [
    {
     "name": "stdout",
     "output_type": "stream",
     "text": [
      "enter time in hours :24\n",
      "24  Hour is equal to 86400  Seconds\n"
     ]
    }
   ],
   "source": [
    "def to_seconds(t):\n",
    "    t=t*60*60\n",
    "    return t\n",
    "time_in_hours = int(input(\"enter time in hours :\")) \n",
    "print(time_in_hours ,\" Hour is equal to\" ,to_seconds(time_in_hours) ,\" Seconds\")"
   ]
  },
  {
   "cell_type": "markdown",
   "metadata": {},
   "source": [
    "## 8. Write a program to print multiplication table as below"
   ]
  },
  {
   "cell_type": "code",
   "execution_count": 4,
   "metadata": {},
   "outputs": [
    {
     "name": "stdout",
     "output_type": "stream",
     "text": [
      "Enter the number:67\n",
      "Multiplication table of 67\n",
      "67 x 1 = 67\n",
      "67 x 2 = 134\n",
      "67 x 3 = 201\n",
      "67 x 4 = 268\n",
      "67 x 5 = 335\n",
      "67 x 6 = 402\n",
      "67 x 7 = 469\n",
      "67 x 8 = 536\n",
      "67 x 9 = 603\n",
      "67 x 10 = 670\n"
     ]
    }
   ],
   "source": [
    "n=int(input(\"Enter the number:\"))\n",
    "print(\"Multiplication table of\",n)\n",
    "for i in range(1,11):\n",
    "    print(n,\"x\",i,\"=\",n*i)"
   ]
  },
  {
   "cell_type": "markdown",
   "metadata": {},
   "source": [
    "## 9. Write a program to take your 5 favorite food as list and print each as 'I like Biriyani'"
   ]
  },
  {
   "cell_type": "code",
   "execution_count": 5,
   "metadata": {},
   "outputs": [
    {
     "name": "stdout",
     "output_type": "stream",
     "text": [
      "enter your favorite foodFALOODA\n",
      "I like FALOODA\n",
      "lIST OF FOOD: ['FALOODA']\n",
      "enter your favorite foodPAYASAM\n",
      "I like PAYASAM\n",
      "lIST OF FOOD: ['FALOODA', 'PAYASAM']\n",
      "enter your favorite foodCUTLET\n",
      "I like CUTLET\n",
      "lIST OF FOOD: ['FALOODA', 'PAYASAM', 'CUTLET']\n",
      "enter your favorite foodGULAB JAMUN\n",
      "I like GULAB JAMUN\n",
      "lIST OF FOOD: ['FALOODA', 'PAYASAM', 'CUTLET', 'GULAB JAMUN']\n",
      "enter your favorite foodBIRIYANI\n",
      "I like BIRIYANI\n",
      "lIST OF FOOD: ['FALOODA', 'PAYASAM', 'CUTLET', 'GULAB JAMUN', 'BIRIYANI']\n"
     ]
    }
   ],
   "source": [
    "list=[]\n",
    "n=5\n",
    "for i in range (0,n):\n",
    "    food=input(\"enter your favorite food\")          \n",
    "    list.append(food)\n",
    "    print(\"I like\",food)\n",
    "    print(\"lIST OF FOOD:\",list)"
   ]
  },
  {
   "cell_type": "code",
   "execution_count": null,
   "metadata": {},
   "outputs": [],
   "source": []
  }
 ],
 "metadata": {
  "kernelspec": {
   "display_name": "Python 3",
   "language": "python",
   "name": "python3"
  },
  "language_info": {
   "codemirror_mode": {
    "name": "ipython",
    "version": 3
   },
   "file_extension": ".py",
   "mimetype": "text/x-python",
   "name": "python",
   "nbconvert_exporter": "python",
   "pygments_lexer": "ipython3",
   "version": "3.8.8"
  }
 },
 "nbformat": 4,
 "nbformat_minor": 4
}
